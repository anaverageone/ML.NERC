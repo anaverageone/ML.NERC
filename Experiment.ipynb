{
 "cells": [
  {
   "cell_type": "code",
   "execution_count": 22,
   "id": "0ce168df-dda7-4783-bbb5-020c2fea835b",
   "metadata": {},
   "outputs": [],
   "source": [
    "import pandas as pd\n",
    "from sklearn.feature_extraction import DictVectorizer\n",
    "from sklearn.svm import LinearSVC\n",
    "from sklearn.naive_bayes import MultinomialNB\n",
    "from sklearn.linear_model import LogisticRegression\n",
    "from sklearn.model_selection import GridSearchCV\n",
    "from sklearn.metrics import classification_report, confusion_matrix\n",
    "\n",
    "from sklearn import metrics\n",
    "import gensim \n",
    "import numpy as np"
   ]
  },
  {
   "cell_type": "code",
   "execution_count": null,
   "id": "4b180a17-b5e2-4e3e-8e20-d15ccc362125",
   "metadata": {},
   "outputs": [],
   "source": []
  },
  {
   "cell_type": "markdown",
   "id": "3db04168-3a18-4632-8e23-627f1b1cc0da",
   "metadata": {},
   "source": [
    "### Extract Features and GOLD labels"
   ]
  },
  {
   "cell_type": "code",
   "execution_count": 2,
   "id": "edea2a16-46ae-4866-a254-dfdddeab25fa",
   "metadata": {},
   "outputs": [],
   "source": [
    "# Load preprocessed training set & development set & test set\n",
    "Linear_model =  LinearSVC(max_iter=10000)\n",
    "Logreg_model = LogisticRegression(max_iter=10000)\n",
    "Nb_model = MultinomialNB()\n",
    "vectorizer = DictVectorizer()\n",
    "train_set = pd.read_csv('data/preprocessed_train_set.conll', sep='\\t')\n",
    "dev_set = pd.read_csv('data/preprocessed_dev_set.conll', sep='\\t')\n",
    "test_set = pd.read_csv('data/preprocessed_test_set.conll', sep='\\t')"
   ]
  },
  {
   "cell_type": "code",
   "execution_count": 3,
   "id": "d2390d3c-40ef-4ade-a15e-8c40f131ad1b",
   "metadata": {},
   "outputs": [],
   "source": [
    "def prepare_data(data_set):\n",
    "    ## read data from conll files as panda dataframe##\n",
    "    ## fill \"0\" to all instances with NAN value and extract all selected features and gold labels##\n",
    "    features = data_set[[\"Token\", \"POS\", \"Chunk\", \"Cap\", \"Digit\",\"Preceding_Token\", \"Proceeding_Token\"]].fillna(0)\n",
    "    gold_labels = data_set['GOLD'].values\n",
    "    feature_dict = features.to_dict(orient='records')\n",
    "    return feature_dict, gold_labels\n",
    "\n",
    "def vectorize_data(features):\n",
    "    ## use vetorized representation for train features  ##\n",
    "    vec = DictVectorizer()\n",
    "    features_vectorized = vec.fit_transform(features)\n",
    "    return vec, features_vectorized\n",
    "\n",
    "def train_model(model, features_vectorized, gold_labels):\n",
    "    ## fit machine learning models on train features  ##\n",
    "    model.fit(features_vectorized, gold_labels)\n",
    "    return model\n",
    "\n",
    "def predict(vec, model, data):\n",
    "    \n",
    "    ## train classifier to predict labels on dev data and generate classification report ##\n",
    "    feature_dict, gold_labels = prepare_data(data)\n",
    "    feature_vectorized = vec.transform(feature_dict) \n",
    "    \n",
    "    predictions = model.predict(feature_vectorized)\n",
    "    results = list()\n",
    "    precision = metrics.precision_score(y_true=gold_labels, y_pred=predictions, average='macro', zero_division=0)\n",
    "    recall = metrics.recall_score(y_true=gold_labels, y_pred=predictions, average='macro', zero_division=0)\n",
    "    report = classification_report(gold_labels, predictions, zero_division=0)\n",
    "    f1_score = metrics.f1_score(y_true=gold_labels, y_pred=predictions, average='macro', zero_division=0)\n",
    "    subset = [round(precision, 3), round(recall, 3), round(f1_score, 3)]\n",
    "\n",
    "    results.append(subset)\n",
    "    print(results)\n",
    "    print (report)\n",
    "    "
   ]
  },
  {
   "cell_type": "markdown",
   "id": "dcbbc0b5-65b9-4d10-8b62-62d491e0b141",
   "metadata": {},
   "source": [
    "### Train different Learning Algorithms and Evaluate on Dev"
   ]
  },
  {
   "cell_type": "markdown",
   "id": "f05f38f5-94d7-4357-b8aa-999804febdab",
   "metadata": {},
   "source": [
    "Logistic Regression"
   ]
  },
  {
   "cell_type": "code",
   "execution_count": 4,
   "id": "3763c08b-d04a-426e-91bd-a9595f6aa426",
   "metadata": {},
   "outputs": [
    {
     "name": "stdout",
     "output_type": "stream",
     "text": [
      "[[0.882, 0.792, 0.83]]\n",
      "              precision    recall  f1-score   support\n",
      "\n",
      "       B-LOC       0.88      0.83      0.86      1837\n",
      "      B-MISC       0.92      0.73      0.82       922\n",
      "       B-ORG       0.82      0.73      0.78      1341\n",
      "       B-PER       0.86      0.88      0.87      1842\n",
      "       I-LOC       0.91      0.72      0.80       257\n",
      "      I-MISC       0.91      0.61      0.73       346\n",
      "       I-ORG       0.82      0.69      0.75       751\n",
      "       I-PER       0.82      0.94      0.88      1303\n",
      "           O       0.98      1.00      0.99     42120\n",
      "\n",
      "    accuracy                           0.96     50719\n",
      "   macro avg       0.88      0.79      0.83     50719\n",
      "weighted avg       0.96      0.96      0.96     50719\n",
      "\n"
     ]
    }
   ],
   "source": [
    "train_feature_dict, train_gold_labels = prepare_data(train_set)\n",
    "vec, train_features_vectorized = vectorize_data(train_feature_dict)\n",
    "model = train_model(Logreg_model, train_features_vectorized, train_gold_labels)\n",
    "predict(vec, model, dev_set)"
   ]
  },
  {
   "cell_type": "markdown",
   "id": "8bf52b5b-e017-467a-85b3-37db2c932af5",
   "metadata": {},
   "source": [
    "Support Vector Machines (SVM)"
   ]
  },
  {
   "cell_type": "code",
   "execution_count": 5,
   "id": "b92a5787-5539-4375-9147-676c9217f3f4",
   "metadata": {},
   "outputs": [
    {
     "name": "stdout",
     "output_type": "stream",
     "text": [
      "[[0.889, 0.836, 0.86]]\n",
      "              precision    recall  f1-score   support\n",
      "\n",
      "       B-LOC       0.91      0.86      0.89      1837\n",
      "      B-MISC       0.92      0.80      0.86       922\n",
      "       B-ORG       0.84      0.79      0.82      1341\n",
      "       B-PER       0.90      0.90      0.90      1842\n",
      "       I-LOC       0.89      0.81      0.85       257\n",
      "      I-MISC       0.84      0.66      0.74       346\n",
      "       I-ORG       0.84      0.74      0.79       751\n",
      "       I-PER       0.87      0.95      0.91      1303\n",
      "           O       0.99      1.00      0.99     42120\n",
      "\n",
      "    accuracy                           0.97     50719\n",
      "   macro avg       0.89      0.84      0.86     50719\n",
      "weighted avg       0.97      0.97      0.97     50719\n",
      "\n"
     ]
    }
   ],
   "source": [
    "train_feature_dict, train_gold_labels = prepare_data(train_set)\n",
    "vec, train_features_vectorized = vectorize_data(train_feature_dict)\n",
    "model = train_model(Linear_model, train_features_vectorized, train_gold_labels)\n",
    "predict(vec, model, dev_set)"
   ]
  },
  {
   "cell_type": "markdown",
   "id": "58880f65-7bcb-4722-8eac-2c44cf13291e",
   "metadata": {},
   "source": [
    "Multinomial Naive Bayes"
   ]
  },
  {
   "cell_type": "code",
   "execution_count": 6,
   "id": "811f020a-9368-4a56-9840-61877b63ce85",
   "metadata": {},
   "outputs": [
    {
     "name": "stdout",
     "output_type": "stream",
     "text": [
      "[[0.87, 0.627, 0.695]]\n",
      "              precision    recall  f1-score   support\n",
      "\n",
      "       B-LOC       0.72      0.87      0.79      1837\n",
      "      B-MISC       0.90      0.60      0.72       922\n",
      "       B-ORG       0.77      0.61      0.68      1341\n",
      "       B-PER       0.95      0.71      0.81      1842\n",
      "       I-LOC       0.88      0.23      0.36       257\n",
      "      I-MISC       1.00      0.27      0.42       346\n",
      "       I-ORG       0.76      0.57      0.65       751\n",
      "       I-PER       0.90      0.81      0.85      1303\n",
      "           O       0.96      0.99      0.98     42120\n",
      "\n",
      "    accuracy                           0.94     50719\n",
      "   macro avg       0.87      0.63      0.70     50719\n",
      "weighted avg       0.94      0.94      0.94     50719\n",
      "\n"
     ]
    }
   ],
   "source": [
    "train_feature_dict, train_gold_labels = prepare_data(train_set)\n",
    "vec, train_features_vectorized = vectorize_data(train_feature_dict)\n",
    "model = train_model(Nb_model, train_features_vectorized, train_gold_labels)\n",
    "predict(vec, model, dev_set)"
   ]
  },
  {
   "cell_type": "markdown",
   "id": "576602cb-1cde-48e4-86c3-55386e316681",
   "metadata": {},
   "source": [
    "### Finetune the best model (SVM) on Dev data with GridSearch on Hyperparameter C"
   ]
  },
  {
   "cell_type": "code",
   "execution_count": 7,
   "id": "95543737-ab47-40c6-82d8-e2437bbae558",
   "metadata": {},
   "outputs": [
    {
     "name": "stdout",
     "output_type": "stream",
     "text": [
      "Fitting 5 folds for each of 5 candidates, totalling 25 fits\n",
      "[CV 1/5] END .........C=0.1;, score=(train=1.000, test=1.000) total time=   0.2s\n",
      "[CV 2/5] END .........C=0.1;, score=(train=1.000, test=1.000) total time=   0.1s\n",
      "[CV 3/5] END .........C=0.1;, score=(train=1.000, test=1.000) total time=   0.0s\n",
      "[CV 4/5] END .........C=0.1;, score=(train=1.000, test=1.000) total time=   0.0s\n",
      "[CV 5/5] END .........C=0.1;, score=(train=1.000, test=1.000) total time=   0.0s\n",
      "[CV 1/5] END ...........C=1;, score=(train=1.000, test=1.000) total time=   0.3s\n",
      "[CV 2/5] END ...........C=1;, score=(train=1.000, test=1.000) total time=   0.3s\n",
      "[CV 3/5] END ...........C=1;, score=(train=1.000, test=1.000) total time=   0.3s\n",
      "[CV 4/5] END ...........C=1;, score=(train=1.000, test=1.000) total time=   0.3s\n",
      "[CV 5/5] END ...........C=1;, score=(train=1.000, test=1.000) total time=   0.3s\n",
      "[CV 1/5] END ..........C=10;, score=(train=1.000, test=1.000) total time=   2.1s\n",
      "[CV 2/5] END ..........C=10;, score=(train=1.000, test=1.000) total time=   2.2s\n",
      "[CV 3/5] END ..........C=10;, score=(train=1.000, test=1.000) total time=   2.2s\n",
      "[CV 4/5] END ..........C=10;, score=(train=1.000, test=1.000) total time=   2.2s\n",
      "[CV 5/5] END ..........C=10;, score=(train=1.000, test=1.000) total time=   2.2s\n",
      "[CV 1/5] END .........C=100;, score=(train=1.000, test=1.000) total time=  24.9s\n",
      "[CV 2/5] END .........C=100;, score=(train=1.000, test=1.000) total time=  19.0s\n",
      "[CV 3/5] END .........C=100;, score=(train=1.000, test=1.000) total time=  16.8s\n",
      "[CV 4/5] END .........C=100;, score=(train=1.000, test=1.000) total time=  17.7s\n",
      "[CV 5/5] END .........C=100;, score=(train=1.000, test=1.000) total time=  16.4s\n"
     ]
    },
    {
     "name": "stderr",
     "output_type": "stream",
     "text": [
      "D:\\ANACONDA\\lib\\site-packages\\sklearn\\svm\\_base.py:985: ConvergenceWarning: Liblinear failed to converge, increase the number of iterations.\n",
      "  warnings.warn(\"Liblinear failed to converge, increase \"\n"
     ]
    },
    {
     "name": "stdout",
     "output_type": "stream",
     "text": [
      "[CV 1/5] END ........C=1000;, score=(train=1.000, test=1.000) total time=  34.3s\n"
     ]
    },
    {
     "name": "stderr",
     "output_type": "stream",
     "text": [
      "D:\\ANACONDA\\lib\\site-packages\\sklearn\\svm\\_base.py:985: ConvergenceWarning: Liblinear failed to converge, increase the number of iterations.\n",
      "  warnings.warn(\"Liblinear failed to converge, increase \"\n"
     ]
    },
    {
     "name": "stdout",
     "output_type": "stream",
     "text": [
      "[CV 2/5] END ........C=1000;, score=(train=1.000, test=1.000) total time=  33.7s\n"
     ]
    },
    {
     "name": "stderr",
     "output_type": "stream",
     "text": [
      "D:\\ANACONDA\\lib\\site-packages\\sklearn\\svm\\_base.py:985: ConvergenceWarning: Liblinear failed to converge, increase the number of iterations.\n",
      "  warnings.warn(\"Liblinear failed to converge, increase \"\n"
     ]
    },
    {
     "name": "stdout",
     "output_type": "stream",
     "text": [
      "[CV 3/5] END ........C=1000;, score=(train=1.000, test=1.000) total time=  33.1s\n"
     ]
    },
    {
     "name": "stderr",
     "output_type": "stream",
     "text": [
      "D:\\ANACONDA\\lib\\site-packages\\sklearn\\svm\\_base.py:985: ConvergenceWarning: Liblinear failed to converge, increase the number of iterations.\n",
      "  warnings.warn(\"Liblinear failed to converge, increase \"\n"
     ]
    },
    {
     "name": "stdout",
     "output_type": "stream",
     "text": [
      "[CV 4/5] END ........C=1000;, score=(train=1.000, test=1.000) total time=  34.2s\n"
     ]
    },
    {
     "name": "stderr",
     "output_type": "stream",
     "text": [
      "D:\\ANACONDA\\lib\\site-packages\\sklearn\\svm\\_base.py:985: ConvergenceWarning: Liblinear failed to converge, increase the number of iterations.\n",
      "  warnings.warn(\"Liblinear failed to converge, increase \"\n"
     ]
    },
    {
     "name": "stdout",
     "output_type": "stream",
     "text": [
      "[CV 5/5] END ........C=1000;, score=(train=1.000, test=1.000) total time=  33.1s\n",
      "Best Parameters :  {'C': 0.1}\n"
     ]
    }
   ],
   "source": [
    "train_features = train_set.drop([\"Token\", \"POS\", \"Chunk\", \"Cap\", \n",
    "                             \"Digit\",\"Preceding_Token\", \"Proceeding_Token\"], axis=1)\n",
    "dev_features = dev_set.drop([\"Token\", \"POS\", \"Chunk\", \"Cap\", \n",
    "                             \"Digit\",\"Preceding_Token\", \"Proceeding_Token\"], axis=1)\n",
    "train_labels = train_set[\"GOLD\"].copy()\n",
    "dev_labels = dev_set[\"GOLD\"].copy()\n",
    "vec.fit_transform(train_features.to_dict(orient='records'))\n",
    "dev_features_vectorized = vec.transform(dev_features.to_dict(orient='records'))\n",
    "\n",
    "param_grid = {'C': [0.1, 1, 10, 100, 1000]} \n",
    "SVM = GridSearchCV(LinearSVC(max_iter=3300), \n",
    "                   param_grid, refit = True, verbose = 3, \n",
    "                   cv= 5, return_train_score=True)\n",
    "SVM.fit(dev_features_vectorized, dev_labels)\n",
    "print('Best Parameters : ', SVM.best_params_)"
   ]
  },
  {
   "cell_type": "markdown",
   "id": "473c9b00-3ec4-4dc1-8012-161599b092a7",
   "metadata": {},
   "source": [
    "### Train best Hyperparametered SVM on train data"
   ]
  },
  {
   "cell_type": "code",
   "execution_count": 8,
   "id": "870f03fb-9ac5-4b95-941c-5535bab86a51",
   "metadata": {},
   "outputs": [
    {
     "data": {
      "text/plain": [
       "LinearSVC(C=0.1)"
      ]
     },
     "execution_count": 8,
     "metadata": {},
     "output_type": "execute_result"
    }
   ],
   "source": [
    "svm_classifier = LinearSVC(C=0.1)\n",
    "svm_classifier.fit(train_features_vectorized, train_gold_labels)"
   ]
  },
  {
   "cell_type": "markdown",
   "id": "ce76aedf-5967-4213-b40b-986509574e18",
   "metadata": {},
   "source": [
    "### Evaluate best Hyperparametered SVM on dev data"
   ]
  },
  {
   "cell_type": "code",
   "execution_count": 9,
   "id": "320a972c-2c8b-45c4-ba35-d6e22d534655",
   "metadata": {},
   "outputs": [
    {
     "name": "stdout",
     "output_type": "stream",
     "text": [
      "[[0.968, 0.893, 0.927]]\n",
      "              precision    recall  f1-score   support\n",
      "\n",
      "       B-LOC       0.94      0.95      0.95      1837\n",
      "      B-MISC       0.96      0.83      0.89       922\n",
      "       B-ORG       0.98      0.89      0.93      1341\n",
      "       B-PER       0.96      0.95      0.95      1842\n",
      "       I-LOC       0.97      0.87      0.92       257\n",
      "      I-MISC       0.97      0.78      0.86       346\n",
      "       I-ORG       0.97      0.79      0.87       751\n",
      "       I-PER       0.96      0.98      0.97      1303\n",
      "           O       0.99      1.00      0.99     42120\n",
      "\n",
      "    accuracy                           0.98     50719\n",
      "   macro avg       0.97      0.89      0.93     50719\n",
      "weighted avg       0.98      0.98      0.98     50719\n",
      "\n"
     ]
    }
   ],
   "source": [
    "dev_feature_dict, dev_gold_labels = prepare_data(dev_set)\n",
    "vec, dev_features_vectorized = vectorize_data(dev_feature_dict)\n",
    "model = train_model(svm_classifier, dev_features_vectorized, dev_gold_labels)\n",
    "predict(vec, model, dev_set)"
   ]
  },
  {
   "cell_type": "code",
   "execution_count": null,
   "id": "73903629-eb6f-4815-af64-2d85d5902175",
   "metadata": {},
   "outputs": [],
   "source": []
  },
  {
   "cell_type": "markdown",
   "id": "eb10bfd9-1b51-4397-ae62-8eaa4b2a1a23",
   "metadata": {},
   "source": [
    "### Feature Ablation: find the least useful feature and remove it from set"
   ]
  },
  {
   "cell_type": "code",
   "execution_count": 10,
   "id": "5599de7a-4199-4dec-8b3e-a8b7f4a3f995",
   "metadata": {},
   "outputs": [],
   "source": [
    "def feature_ablation(features):\n",
    "    results = []\n",
    "    for feature in features:\n",
    "        selected_features = ['Token', feature]\n",
    "        train_features = train_set[selected_features]\n",
    "        train_features_vectorized = vectorizer.fit_transform(train_features.to_dict('records'))\n",
    "                \n",
    "        # Train the SVM model with the best Hyperparameter C on training data\n",
    "        svm_classifier = LinearSVC(C=0.1)\n",
    "        svm_classifier.fit(train_features_vectorized, train_gold_labels)\n",
    "                \n",
    "        # Select subset of features in development set\n",
    "        dev_features = dev_set[selected_features]\n",
    "        dev_features_vectorized = vectorizer.transform(dev_features.to_dict('records'))\n",
    "                \n",
    "        # Evaluate the SVM model with selected features on development data\n",
    "        predictions = svm_classifier.predict(dev_features_vectorized)\n",
    "        precision = metrics.precision_score(y_true=dev_gold_labels, y_pred=predictions, average='macro', zero_division=0)\n",
    "        recall = metrics.recall_score(y_true=dev_gold_labels, y_pred=predictions, average='macro', zero_division=0)\n",
    "        f1_score = metrics.f1_score(y_true=dev_gold_labels, y_pred=predictions, average='macro', zero_division=0)\n",
    "                \n",
    "        # Add evaluation results to the dictionary\n",
    "        features = ', '.join(selected_features)\n",
    "        subset = [features, round(precision, 3), round(recall, 3), round(f1_score, 3)]\n",
    "        results.append(subset)\n",
    "    return results"
   ]
  },
  {
   "cell_type": "code",
   "execution_count": 11,
   "id": "fca18369-90e7-44e0-8e8e-39bfe1660427",
   "metadata": {},
   "outputs": [
    {
     "data": {
      "text/html": [
       "<div>\n",
       "<style scoped>\n",
       "    .dataframe tbody tr th:only-of-type {\n",
       "        vertical-align: middle;\n",
       "    }\n",
       "\n",
       "    .dataframe tbody tr th {\n",
       "        vertical-align: top;\n",
       "    }\n",
       "\n",
       "    .dataframe thead th {\n",
       "        text-align: right;\n",
       "    }\n",
       "</style>\n",
       "<table border=\"1\" class=\"dataframe\">\n",
       "  <thead>\n",
       "    <tr style=\"text-align: right;\">\n",
       "      <th></th>\n",
       "      <th>Feature subset</th>\n",
       "      <th>Precision</th>\n",
       "      <th>Recall</th>\n",
       "      <th>F1-score</th>\n",
       "    </tr>\n",
       "  </thead>\n",
       "  <tbody>\n",
       "    <tr>\n",
       "      <th>4</th>\n",
       "      <td>Token, Preceding_Token</td>\n",
       "      <td>0.899</td>\n",
       "      <td>0.662</td>\n",
       "      <td>0.754</td>\n",
       "    </tr>\n",
       "    <tr>\n",
       "      <th>5</th>\n",
       "      <td>Token, Proceeding_Token</td>\n",
       "      <td>0.853</td>\n",
       "      <td>0.617</td>\n",
       "      <td>0.709</td>\n",
       "    </tr>\n",
       "    <tr>\n",
       "      <th>0</th>\n",
       "      <td>Token, POS</td>\n",
       "      <td>0.770</td>\n",
       "      <td>0.659</td>\n",
       "      <td>0.695</td>\n",
       "    </tr>\n",
       "    <tr>\n",
       "      <th>1</th>\n",
       "      <td>Token, Chunk</td>\n",
       "      <td>0.834</td>\n",
       "      <td>0.563</td>\n",
       "      <td>0.654</td>\n",
       "    </tr>\n",
       "    <tr>\n",
       "      <th>3</th>\n",
       "      <td>Token, Digit</td>\n",
       "      <td>0.811</td>\n",
       "      <td>0.553</td>\n",
       "      <td>0.641</td>\n",
       "    </tr>\n",
       "    <tr>\n",
       "      <th>2</th>\n",
       "      <td>Token, Cap</td>\n",
       "      <td>0.811</td>\n",
       "      <td>0.552</td>\n",
       "      <td>0.637</td>\n",
       "    </tr>\n",
       "  </tbody>\n",
       "</table>\n",
       "</div>"
      ],
      "text/plain": [
       "            Feature subset  Precision  Recall  F1-score\n",
       "4   Token, Preceding_Token      0.899   0.662     0.754\n",
       "5  Token, Proceeding_Token      0.853   0.617     0.709\n",
       "0               Token, POS      0.770   0.659     0.695\n",
       "1             Token, Chunk      0.834   0.563     0.654\n",
       "3             Token, Digit      0.811   0.553     0.641\n",
       "2               Token, Cap      0.811   0.552     0.637"
      ]
     },
     "execution_count": 11,
     "metadata": {},
     "output_type": "execute_result"
    }
   ],
   "source": [
    "features = [\"POS\", \"Chunk\", \"Cap\", \"Digit\",\"Preceding_Token\", \"Proceeding_Token\"]\n",
    "results = feature_ablation(features)\n",
    "df = pd.DataFrame(results, columns = ['Feature subset', 'Precision', 'Recall', 'F1-score'])\n",
    "df.sort_values('F1-score', ascending=False)"
   ]
  },
  {
   "cell_type": "markdown",
   "id": "5b68cdcb-b429-4de2-931b-15b3786a4ec8",
   "metadata": {},
   "source": [
    "### Drop the features that contributes least (Digit)"
   ]
  },
  {
   "cell_type": "code",
   "execution_count": 12,
   "id": "a3c5fa80-710a-4b38-a6f8-90da459864ef",
   "metadata": {},
   "outputs": [],
   "source": [
    "# Extract the bestset of features from all data\n",
    "# selected_features = [\"Token\", \"POS\", \"Chunk\", \"Cap\",\"Preceding_Token\"]\n",
    "# train_features,dev_features, test_features = train_set[selected_features], dev_set[selected_features], test_set[selected_features]\n",
    "# train_features_vectorized = vectorizer.fit_transform(train_features.to_dict('records'))\n",
    "# dev_features_vectorized = vectorizer.transform(dev_features.to_dict('records'))\n",
    "# test_features_vectorized = vectorizer.transform(test_features.to_dict('records'))\n",
    "  \n",
    "train_features = train_set[[\"Token\", \"POS\", \"Chunk\", \"Cap\",\"Preceding_Token\", \"Proceeding_Token\"]].fillna(0)\n",
    "train_features_vectorized = vectorizer.fit_transform(train_features.to_dict('records'))\n",
    "dev_features = dev_set[[\"Token\", \"POS\", \"Chunk\", \"Cap\",\"Preceding_Token\", \"Proceeding_Token\"]].fillna(0)\n",
    "dev_features_vectorized = vectorizer.transform(dev_features.to_dict('records'))\n",
    "test_features = test_set[[\"Token\", \"POS\", \"Chunk\", \"Cap\",\"Preceding_Token\", \"Proceeding_Token\"]].fillna(0)\n",
    "test_features_vectorized = vectorizer.transform(test_features.to_dict('records'))\n",
    "train_gold_labels = train_set['GOLD']\n",
    "dev_gold_labels = dev_set['GOLD']\n",
    "test_gold_labels = test_set['GOLD']"
   ]
  },
  {
   "cell_type": "markdown",
   "id": "5b423d31-d1c4-4d47-ae0f-6604f20e83d2",
   "metadata": {},
   "source": [
    "### Evaluate the SVM model with the best features set on Dev data"
   ]
  },
  {
   "cell_type": "code",
   "execution_count": 13,
   "id": "5287429b-aa08-4486-af1d-7a3ad4a6201d",
   "metadata": {},
   "outputs": [
    {
     "data": {
      "text/plain": [
       "LinearSVC(C=0.1)"
      ]
     },
     "execution_count": 13,
     "metadata": {},
     "output_type": "execute_result"
    }
   ],
   "source": [
    "# Train the SVM model with the best Hyperparameter C on train data\n",
    "svm_classifier = LinearSVC(C=0.1)\n",
    "svm_classifier.fit(train_features_vectorized, train_gold_labels)"
   ]
  },
  {
   "cell_type": "code",
   "execution_count": 14,
   "id": "64d76807-dbaf-4194-ab07-38ec3feee743",
   "metadata": {},
   "outputs": [
    {
     "name": "stdout",
     "output_type": "stream",
     "text": [
      "[[0.883, 0.799, 0.834]]\n",
      "              precision    recall  f1-score   support\n",
      "\n",
      "       B-LOC       0.88      0.85      0.87      1837\n",
      "      B-MISC       0.91      0.75      0.82       922\n",
      "       B-ORG       0.84      0.74      0.79      1341\n",
      "       B-PER       0.88      0.88      0.88      1842\n",
      "       I-LOC       0.90      0.73      0.80       257\n",
      "      I-MISC       0.88      0.61      0.72       346\n",
      "       I-ORG       0.86      0.68      0.76       751\n",
      "       I-PER       0.82      0.95      0.88      1303\n",
      "           O       0.98      0.99      0.99     42120\n",
      "\n",
      "    accuracy                           0.96     50719\n",
      "   macro avg       0.88      0.80      0.83     50719\n",
      "weighted avg       0.96      0.96      0.96     50719\n",
      "\n"
     ]
    }
   ],
   "source": [
    "# Evaluate the SVM model on dev data\n",
    "predictions = svm_classifier.predict(dev_features_vectorized)\n",
    "report = classification_report(dev_gold_labels, predictions, digits=3)\n",
    "results = list()\n",
    "precision = metrics.precision_score(y_true=dev_gold_labels, y_pred=predictions, average='macro', zero_division=0)\n",
    "recall = metrics.recall_score(y_true=dev_gold_labels, y_pred=predictions, average='macro', zero_division=0)\n",
    "report = classification_report(dev_gold_labels, predictions, zero_division=0)\n",
    "f1_score = metrics.f1_score(y_true=dev_gold_labels, y_pred=predictions, average='macro', zero_division=0)\n",
    "subset = [round(precision, 3), round(recall, 3), round(f1_score, 3)]\n",
    "\n",
    "results.append(subset)\n",
    "print(results)\n",
    "print(report)"
   ]
  },
  {
   "cell_type": "markdown",
   "id": "ec2c8e80-89f1-4438-8d79-b388400eff1a",
   "metadata": {},
   "source": [
    "### Evaluate the SVM model with the best features set on Test data"
   ]
  },
  {
   "cell_type": "code",
   "execution_count": 15,
   "id": "d6440dde-94f3-4b7a-93b0-d03cca21f4b1",
   "metadata": {
    "tags": []
   },
   "outputs": [
    {
     "data": {
      "text/plain": [
       "LinearSVC(C=0.1)"
      ]
     },
     "execution_count": 15,
     "metadata": {},
     "output_type": "execute_result"
    }
   ],
   "source": [
    "# Train the SVM model with the best Hyperparameter C on train data\n",
    "svm_classifier = LinearSVC(C=0.1)\n",
    "svm_classifier.fit(train_features_vectorized, train_gold_labels)"
   ]
  },
  {
   "cell_type": "code",
   "execution_count": 16,
   "id": "ea48d09c-5a56-4011-82a4-25bd0f161f6d",
   "metadata": {},
   "outputs": [
    {
     "name": "stdout",
     "output_type": "stream",
     "text": [
      "[[0.795, 0.748, 0.767]]\n",
      "              precision    recall  f1-score   support\n",
      "\n",
      "       B-LOC       0.83      0.79      0.81      1668\n",
      "      B-MISC       0.80      0.64      0.71       702\n",
      "       B-ORG       0.77      0.68      0.72      1661\n",
      "       B-PER       0.79      0.81      0.80      1617\n",
      "       I-LOC       0.78      0.65      0.71       257\n",
      "      I-MISC       0.66      0.60      0.63       216\n",
      "       I-ORG       0.80      0.62      0.70       835\n",
      "       I-PER       0.75      0.95      0.84      1156\n",
      "           O       0.98      0.99      0.98     37902\n",
      "\n",
      "    accuracy                           0.95     46014\n",
      "   macro avg       0.80      0.75      0.77     46014\n",
      "weighted avg       0.95      0.95      0.95     46014\n",
      "\n"
     ]
    }
   ],
   "source": [
    "# Evaluate the SVM model on test data\n",
    "test_gold_labels = test_set['GOLD'].values\n",
    "predictions = svm_classifier.predict(test_features_vectorized)\n",
    "report = classification_report(test_gold_labels, predictions, digits=3)\n",
    "results = list()\n",
    "precision = metrics.precision_score(y_true=test_gold_labels, y_pred=predictions, average='macro', zero_division=0)\n",
    "recall = metrics.recall_score(y_true=test_gold_labels, y_pred=predictions, average='macro', zero_division=0)\n",
    "report = classification_report(test_gold_labels, predictions, zero_division=0)\n",
    "f1_score = metrics.f1_score(y_true=test_gold_labels, y_pred=predictions, average='macro', zero_division=0)\n",
    "subset = [round(precision, 3), round(recall, 3), round(f1_score, 3)]\n",
    "\n",
    "results.append(subset)\n",
    "print(results)\n",
    "print(report)"
   ]
  },
  {
   "cell_type": "code",
   "execution_count": 25,
   "id": "9df613eb-221c-4511-8790-dcfdfd364e04",
   "metadata": {},
   "outputs": [
    {
     "name": "stdout",
     "output_type": "stream",
     "text": [
      "CONFUSION MATRIX\n",
      "[[ 1319    26   140    48     3     2     5    28    97]\n",
      " [   17   452    47    34     0     5     5    13   129]\n",
      " [  129    34  1126   126     1     6    28    32   179]\n",
      " [   53     2    53  1305     0     0     5    83   116]\n",
      " [    7     1     0     0   167     5    21    25    31]\n",
      " [    2    11     0     2     2   129    10    16    44]\n",
      " [   22     9    24     5    34     6   521    85   129]\n",
      " [    2     1     3    10     2     0    17  1099    22]\n",
      " [   31    27    78   117     6    42    43    86 37472]]\n"
     ]
    }
   ],
   "source": [
    "print('CONFUSION MATRIX')\n",
    "cf_matrix = confusion_matrix(test_gold_labels, predictions)\n",
    "print(cf_matrix)"
   ]
  },
  {
   "cell_type": "code",
   "execution_count": 17,
   "id": "80c7a70a-ed5b-4449-9e3d-0d896baf9d96",
   "metadata": {},
   "outputs": [],
   "source": [
    "## CONFUSION MATRIX\n",
    "label = ['B-LOC', 'B-MISC', 'B-ORG', 'B-PER', 'I-LOC', 'I-MISC', 'I-ORG', 'I-PER', 'O']\n",
    "from sklearn.metrics import ConfusionMatrixDisplay"
   ]
  },
  {
   "cell_type": "code",
   "execution_count": 18,
   "id": "5a457444-e01a-4291-9b6c-0f87be0633a0",
   "metadata": {},
   "outputs": [
    {
     "data": {
      "image/png": "[encoded data removed]",
      "text/plain": [
       "<Figure size 432x288 with 2 Axes>"
      ]
     },
     "metadata": {
      "needs_background": "light"
     },
     "output_type": "display_data"
    }
   ],
   "source": [
    "from sklearn.metrics import confusion_matrix\n",
    "import seaborn as sns\n",
    "import matplotlib.pyplot as plt\n",
    "\n",
    "# calculate confusion matrix\n",
    "cm = confusion_matrix(test_gold_labels, predictions, labels=label)\n",
    "\n",
    "# plot confusion matrix as heatmap\n",
    "sns.heatmap(cm, annot=True, cmap='Blues', xticklabels=label, yticklabels=label)\n",
    "plt.xlabel('Predicted')\n",
    "plt.ylabel('Actual')\n",
    "plt.title('Confusion Matrix')\n",
    "plt.show()"
   ]
  },
  {
   "cell_type": "markdown",
   "id": "85e89c48-41bb-485f-8339-40722570e5f7",
   "metadata": {},
   "source": [
    "### Error Analysis"
   ]
  },
  {
   "cell_type": "markdown",
   "id": "f990e0d7-bae6-45e0-8c53-52870397239a",
   "metadata": {},
   "source": [
    "Print all unmatched instances of the SVM model on test data"
   ]
  },
  {
   "cell_type": "code",
   "execution_count": 19,
   "id": "ebf89dcc-edd7-4843-b5bc-5e7db1e9a235",
   "metadata": {},
   "outputs": [
    {
     "data": {
      "text/html": [
       "<div>\n",
       "<style scoped>\n",
       "    .dataframe tbody tr th:only-of-type {\n",
       "        vertical-align: middle;\n",
       "    }\n",
       "\n",
       "    .dataframe tbody tr th {\n",
       "        vertical-align: top;\n",
       "    }\n",
       "\n",
       "    .dataframe thead th {\n",
       "        text-align: right;\n",
       "    }\n",
       "</style>\n",
       "<table border=\"1\" class=\"dataframe\">\n",
       "  <thead>\n",
       "    <tr style=\"text-align: right;\">\n",
       "      <th></th>\n",
       "      <th>Token</th>\n",
       "      <th>POS</th>\n",
       "      <th>Chunk</th>\n",
       "      <th>Cap</th>\n",
       "      <th>Preceding_Token</th>\n",
       "      <th>GOLD</th>\n",
       "      <th>Predictions</th>\n",
       "    </tr>\n",
       "  </thead>\n",
       "  <tbody>\n",
       "    <tr>\n",
       "      <th>2</th>\n",
       "      <td>JAPAN</td>\n",
       "      <td>NNP</td>\n",
       "      <td>B-NP</td>\n",
       "      <td>True</td>\n",
       "      <td>-</td>\n",
       "      <td>B-LOC</td>\n",
       "      <td>B-ORG</td>\n",
       "    </tr>\n",
       "    <tr>\n",
       "      <th>4</th>\n",
       "      <td>LUCKY</td>\n",
       "      <td>NNP</td>\n",
       "      <td>B-NP</td>\n",
       "      <td>True</td>\n",
       "      <td>GET</td>\n",
       "      <td>O</td>\n",
       "      <td>B-ORG</td>\n",
       "    </tr>\n",
       "    <tr>\n",
       "      <th>7</th>\n",
       "      <td>CHINA</td>\n",
       "      <td>NNP</td>\n",
       "      <td>B-NP</td>\n",
       "      <td>True</td>\n",
       "      <td>,</td>\n",
       "      <td>B-PER</td>\n",
       "      <td>O</td>\n",
       "    </tr>\n",
       "    <tr>\n",
       "      <th>68</th>\n",
       "      <td>Uzbekistan</td>\n",
       "      <td>NNP</td>\n",
       "      <td>I-NP</td>\n",
       "      <td>False</td>\n",
       "      <td>newcomers</td>\n",
       "      <td>B-LOC</td>\n",
       "      <td>I-PER</td>\n",
       "    </tr>\n",
       "    <tr>\n",
       "      <th>86</th>\n",
       "      <td>Uzbek</td>\n",
       "      <td>NNP</td>\n",
       "      <td>B-NP</td>\n",
       "      <td>False</td>\n",
       "      <td>when</td>\n",
       "      <td>B-MISC</td>\n",
       "      <td>B-ORG</td>\n",
       "    </tr>\n",
       "    <tr>\n",
       "      <th>...</th>\n",
       "      <td>...</td>\n",
       "      <td>...</td>\n",
       "      <td>...</td>\n",
       "      <td>...</td>\n",
       "      <td>...</td>\n",
       "      <td>...</td>\n",
       "      <td>...</td>\n",
       "    </tr>\n",
       "    <tr>\n",
       "      <th>45837</th>\n",
       "      <td>Republic</td>\n",
       "      <td>NNP</td>\n",
       "      <td>I-NP</td>\n",
       "      <td>False</td>\n",
       "      <td>the</td>\n",
       "      <td>B-LOC</td>\n",
       "      <td>I-LOC</td>\n",
       "    </tr>\n",
       "    <tr>\n",
       "      <th>45838</th>\n",
       "      <td>of</td>\n",
       "      <td>IN</td>\n",
       "      <td>B-PP</td>\n",
       "      <td>False</td>\n",
       "      <td>Republic</td>\n",
       "      <td>I-LOC</td>\n",
       "      <td>O</td>\n",
       "    </tr>\n",
       "    <tr>\n",
       "      <th>45839</th>\n",
       "      <td>Ireland</td>\n",
       "      <td>NNP</td>\n",
       "      <td>B-NP</td>\n",
       "      <td>False</td>\n",
       "      <td>of</td>\n",
       "      <td>I-LOC</td>\n",
       "      <td>B-LOC</td>\n",
       "    </tr>\n",
       "    <tr>\n",
       "      <th>46002</th>\n",
       "      <td>1966</td>\n",
       "      <td>CD</td>\n",
       "      <td>I-NP</td>\n",
       "      <td>False</td>\n",
       "      <td>the</td>\n",
       "      <td>B-MISC</td>\n",
       "      <td>O</td>\n",
       "    </tr>\n",
       "    <tr>\n",
       "      <th>46003</th>\n",
       "      <td>World</td>\n",
       "      <td>NNP</td>\n",
       "      <td>I-NP</td>\n",
       "      <td>False</td>\n",
       "      <td>1966</td>\n",
       "      <td>I-MISC</td>\n",
       "      <td>B-MISC</td>\n",
       "    </tr>\n",
       "  </tbody>\n",
       "</table>\n",
       "<p>2424 rows × 7 columns</p>\n",
       "</div>"
      ],
      "text/plain": [
       "            Token  POS Chunk    Cap Preceding_Token    GOLD Predictions\n",
       "2           JAPAN  NNP  B-NP   True               -   B-LOC       B-ORG\n",
       "4           LUCKY  NNP  B-NP   True             GET       O       B-ORG\n",
       "7           CHINA  NNP  B-NP   True               ,   B-PER           O\n",
       "68     Uzbekistan  NNP  I-NP  False       newcomers   B-LOC       I-PER\n",
       "86          Uzbek  NNP  B-NP  False            when  B-MISC       B-ORG\n",
       "...           ...  ...   ...    ...             ...     ...         ...\n",
       "45837    Republic  NNP  I-NP  False             the   B-LOC       I-LOC\n",
       "45838          of   IN  B-PP  False        Republic   I-LOC           O\n",
       "45839     Ireland  NNP  B-NP  False              of   I-LOC       B-LOC\n",
       "46002        1966   CD  I-NP  False             the  B-MISC           O\n",
       "46003       World  NNP  I-NP  False            1966  I-MISC      B-MISC\n",
       "\n",
       "[2424 rows x 7 columns]"
      ]
     },
     "execution_count": 19,
     "metadata": {},
     "output_type": "execute_result"
    }
   ],
   "source": [
    "test_set['Predictions'] = predictions\n",
    "mismatch_rows = test_set.loc[test_set['Predictions'] != test_set['GOLD']]\n",
    "mismatch_rows[[\"Token\", \"POS\", \"Chunk\", \"Cap\",\"Preceding_Token\", \"GOLD\", \"Predictions\"]]"
   ]
  },
  {
   "cell_type": "code",
   "execution_count": 20,
   "id": "44b6fbd1-fbfc-420c-bb03-d4e0d499e849",
   "metadata": {},
   "outputs": [],
   "source": [
    "# word_embedding_model = gensim.models.KeyedVectors.load_word2vec_format('models/GoogleNews-vectors-negative300.bin.gz', binary=True)  "
   ]
  },
  {
   "cell_type": "code",
   "execution_count": null,
   "id": "fdc86f18-7528-4380-b48c-823687d4d41f",
   "metadata": {},
   "outputs": [],
   "source": []
  },
  {
   "cell_type": "code",
   "execution_count": null,
   "id": "b9f671e6-ffe4-4636-a955-6a03fd6f4110",
   "metadata": {},
   "outputs": [],
   "source": []
  },
  {
   "cell_type": "code",
   "execution_count": null,
   "id": "bc82f17e-e8c0-4b2a-9601-d2bdfbc7492a",
   "metadata": {},
   "outputs": [],
   "source": []
  }
 ],
 "metadata": {
  "kernelspec": {
   "display_name": "Python 3 (ipykernel)",
   "language": "python",
   "name": "python3"
  },
  "language_info": {
   "codemirror_mode": {
    "name": "ipython",
    "version": 3
   },
   "file_extension": ".py",
   "mimetype": "text/x-python",
   "name": "python",
   "nbconvert_exporter": "python",
   "pygments_lexer": "ipython3",
   "version": "3.9.12"
  }
 },
 "nbformat": 4,
 "nbformat_minor": 5
}
